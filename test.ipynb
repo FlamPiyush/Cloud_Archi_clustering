{
 "cells": [
  {
   "cell_type": "markdown",
   "source": [
    "$$ Cloud-Architecture"
   ],
   "metadata": {}
  },
  {
   "cell_type": "markdown",
   "source": [
    "># Importing Files"
   ],
   "metadata": {}
  },
  {
   "cell_type": "code",
   "execution_count": 1,
   "source": [
    "\r\n",
    "from feature_extractor import FeatureExtractor\r\n",
    "import numpy as np\r\n",
    "from PIL import Image\r\n",
    "import os\r\n",
    "from pathlib import Path\r\n",
    "import tkinter as tk \r\n",
    "from tkinter import filedialog \r\n",
    "import matplotlib.pyplot as plt\r\n",
    "import pandas as pd\r\n",
    "import seaborn as sns\r\n",
    "sns.set()\r\n",
    "from sklearn.cluster import KMeans\r\n",
    "import cv2\r\n"
   ],
   "outputs": [],
   "metadata": {}
  },
  {
   "cell_type": "markdown",
   "source": [
    "># Reading Files "
   ],
   "metadata": {}
  },
  {
   "cell_type": "code",
   "execution_count": 2,
   "source": [
    "images = []\r\n",
    "database = r\"C:\\Users\\piyus\\OneDrive\\Documents\\Office\\21Sep\\CBIR\\vgg-git\\sis\\database\"\r\n",
    "for filename in os.listdir(database):\r\n",
    "    img = Image.open(os.path.join(database,filename))\r\n",
    "    '''Initializing dictionary '''\r\n",
    "    image_info = {\r\n",
    "        \"image_name\": os.path.basename(os.path.join(database,filename)),\r\n",
    "        \"image_data\": img,\r\n",
    "        \"image_path\": os.path.join(database,filename)\r\n",
    "    }\r\n",
    "    '''checking for image readability'''\r\n",
    "    if img is not None:\r\n",
    "        images.append(image_info)"
   ],
   "outputs": [],
   "metadata": {}
  },
  {
   "cell_type": "markdown",
   "source": [
    ">#  Extracting features and saving it to numpy file"
   ],
   "metadata": {}
  },
  {
   "cell_type": "code",
   "execution_count": 3,
   "source": [
    "fe = FeatureExtractor()\r\n",
    "\r\n",
    "# for img in images:\r\n",
    "#     temp = fe.extract(img[\"image_data\"])\r\n",
    "#     feature_path = Path(\"C:/Users/piyus/OneDrive/Documents/Office/21Sep/CBIR/vgg-git/sis/features/\") / (img[\"image_name\"] + \".npy\")\r\n",
    "#     np.save(feature_path,temp)"
   ],
   "outputs": [],
   "metadata": {}
  },
  {
   "cell_type": "markdown",
   "source": [
    "># Taking reference image as input "
   ],
   "metadata": {}
  },
  {
   "cell_type": "code",
   "execution_count": 4,
   "source": [
    "root = tk.Tk() \r\n",
    "root.withdraw() \r\n",
    "file_path = filedialog.askopenfilename() \r\n",
    "refer_image = Image.open(file_path)\r\n",
    "# img  = cv2.imread(file_path)\r\n",
    "plt.imshow(refer_image)\r\n"
   ],
   "outputs": [
    {
     "output_type": "execute_result",
     "data": {
      "text/plain": [
       "<matplotlib.image.AxesImage at 0x1e532d16a60>"
      ]
     },
     "metadata": {},
     "execution_count": 4
    },
    {
     "output_type": "display_data",
     "data": {
      "image/png": "[encoded data removed]",
      "text/plain": [
       "<Figure size 432x288 with 1 Axes>"
      ]
     },
     "metadata": {}
    }
   ],
   "metadata": {}
  },
  {
   "cell_type": "markdown",
   "source": [
    ">## Finding L2 Distance from query image"
   ],
   "metadata": {}
  },
  {
   "cell_type": "markdown",
   "source": [
    ">reading from saved npy features "
   ],
   "metadata": {}
  },
  {
   "cell_type": "code",
   "execution_count": 5,
   "source": [
    "# dists = np.linalg.norm(features-query, axis=1)\r\n",
    "features = []\r\n",
    "img_paths = []\r\n",
    "folder = \"C:/Users/piyus/OneDrive/Documents/Office/21Sep/CBIR/vgg-git/sis/features/\"\r\n",
    "# for feature_path in Path(\"./features\").glob(\"*.npy\"):\r\n",
    "#     features.append(np.load(feature_path))\r\n",
    "#     img_paths.append(Path(\"./database\") / (feature_path.stem + \".jpg\"))\r\n",
    "for filename in os.listdir(folder):\r\n",
    "    features.append(np.load(Path(folder) / filename))\r\n",
    "\r\n",
    "features = np.array(features)"
   ],
   "outputs": [],
   "metadata": {}
  },
  {
   "cell_type": "markdown",
   "source": [
    ">## Appending Distance in final list"
   ],
   "metadata": {}
  },
  {
   "cell_type": "code",
   "execution_count": 6,
   "source": [
    "refer_fe = fe.extract(refer_image)\r\n",
    "dists = np.linalg.norm(features-refer_fe, axis=1) "
   ],
   "outputs": [],
   "metadata": {}
  },
  {
   "cell_type": "code",
   "execution_count": 7,
   "source": [
    "i = 0\r\n",
    "final = {\"name\" : [],\r\n",
    "        \"distance\": []}\r\n",
    "for a in dists:\r\n",
    "    final[\"name\"].append(images[i][\"image_name\"])\r\n",
    "    final[\"distance\"].append(a)\r\n",
    "    i+=1\r\n",
    "# for a in dists:\r\n",
    "#     temp = {\r\n",
    "#         \"name\" : images[i][\"image_name\"],\r\n",
    "#         \"distance\" : a\r\n",
    "#     }\r\n",
    "#     final.append(temp)\r\n",
    "#     i +=1"
   ],
   "outputs": [],
   "metadata": {}
  },
  {
   "cell_type": "markdown",
   "source": [
    ">## Scatter plot of distances"
   ],
   "metadata": {}
  },
  {
   "cell_type": "code",
   "execution_count": 8,
   "source": [
    "# plt.scatter(final[\"name\"],final[\"distance\"])\r\n",
    "\r\n",
    "# plt.show()"
   ],
   "outputs": [],
   "metadata": {}
  },
  {
   "cell_type": "markdown",
   "source": [
    "Converting Data into pandas dataframe "
   ],
   "metadata": {}
  },
  {
   "cell_type": "code",
   "execution_count": 9,
   "source": [
    " df = pd.DataFrame(final)\r\n",
    " x = df.iloc[:,1:3]"
   ],
   "outputs": [],
   "metadata": {}
  },
  {
   "cell_type": "markdown",
   "source": [
    ">## Initializing K means"
   ],
   "metadata": {}
  },
  {
   "cell_type": "markdown",
   "source": [
    "># Checking for cluster size"
   ],
   "metadata": {}
  },
  {
   "cell_type": "code",
   "execution_count": 10,
   "source": [
    "from scipy.cluster.vq import kmeans,vq\r\n",
    "\r\n",
    "centroids,_ = kmeans(x,100)\r\n",
    "# assign each sample to a cluster\r\n",
    "idx,_ = vq(x,centroids)\r\n",
    "#Print number of elements per cluster\r\n",
    "print(np.bincount(idx))"
   ],
   "outputs": [
    {
     "output_type": "stream",
     "name": "stdout",
     "text": [
      "[14  4 12  7  9  5 13  7  3 16  5 13  6  7 11  5 12  9  8  2  7  8  7 23\n",
      " 15 12 10  4  7  4  9 10  9  8  4 11 12 12  7 25  9 14  8 15  9 11 12  4\n",
      " 12  8  6  7 10 22  9  2 20  9  6  8  2  7 16 11  5 10  8  4  6 10  6  5\n",
      "  7 10  4 18 11 11  5  6  3  7  8  9  8  9 10 20  9  5 12 11  4  8 12  9\n",
      "  6  6  9]\n"
     ]
    }
   ],
   "metadata": {}
  },
  {
   "cell_type": "code",
   "execution_count": 11,
   "source": [
    "k = 100\r\n",
    "clusters = KMeans(k,random_state=42)\r\n",
    "clusters.fit(x)"
   ],
   "outputs": [
    {
     "output_type": "execute_result",
     "data": {
      "text/plain": [
       "KMeans(n_clusters=100, random_state=42)"
      ]
     },
     "metadata": {},
     "execution_count": 11
    }
   ],
   "metadata": {}
  },
  {
   "cell_type": "markdown",
   "source": [
    "> #  Appending clusterid in new dataframe"
   ],
   "metadata": {}
  },
  {
   "cell_type": "code",
   "execution_count": 12,
   "source": [
    "y = pd.DataFrame(x,columns=[\"distance\"])\r\n",
    "y[\"clusterid\"] = clusters.labels_"
   ],
   "outputs": [],
   "metadata": {}
  },
  {
   "cell_type": "markdown",
   "source": [
    "# `Printing new Dataframe`"
   ],
   "metadata": {}
  },
  {
   "cell_type": "code",
   "execution_count": 13,
   "source": [
    "y"
   ],
   "outputs": [
    {
     "output_type": "execute_result",
     "data": {
      "text/html": [
       "<div>\n",
       "<style scoped>\n",
       "    .dataframe tbody tr th:only-of-type {\n",
       "        vertical-align: middle;\n",
       "    }\n",
       "\n",
       "    .dataframe tbody tr th {\n",
       "        vertical-align: top;\n",
       "    }\n",
       "\n",
       "    .dataframe thead th {\n",
       "        text-align: right;\n",
       "    }\n",
       "</style>\n",
       "<table border=\"1\" class=\"dataframe\">\n",
       "  <thead>\n",
       "    <tr style=\"text-align: right;\">\n",
       "      <th></th>\n",
       "      <th>distance</th>\n",
       "      <th>clusterid</th>\n",
       "    </tr>\n",
       "  </thead>\n",
       "  <tbody>\n",
       "    <tr>\n",
       "      <th>0</th>\n",
       "      <td>1.225922</td>\n",
       "      <td>48</td>\n",
       "    </tr>\n",
       "    <tr>\n",
       "      <th>1</th>\n",
       "      <td>1.095258</td>\n",
       "      <td>80</td>\n",
       "    </tr>\n",
       "    <tr>\n",
       "      <th>2</th>\n",
       "      <td>1.227573</td>\n",
       "      <td>22</td>\n",
       "    </tr>\n",
       "    <tr>\n",
       "      <th>3</th>\n",
       "      <td>1.000222</td>\n",
       "      <td>37</td>\n",
       "    </tr>\n",
       "    <tr>\n",
       "      <th>4</th>\n",
       "      <td>1.199311</td>\n",
       "      <td>38</td>\n",
       "    </tr>\n",
       "    <tr>\n",
       "      <th>...</th>\n",
       "      <td>...</td>\n",
       "      <td>...</td>\n",
       "    </tr>\n",
       "    <tr>\n",
       "      <th>895</th>\n",
       "      <td>1.153000</td>\n",
       "      <td>67</td>\n",
       "    </tr>\n",
       "    <tr>\n",
       "      <th>896</th>\n",
       "      <td>1.088352</td>\n",
       "      <td>82</td>\n",
       "    </tr>\n",
       "    <tr>\n",
       "      <th>897</th>\n",
       "      <td>1.027572</td>\n",
       "      <td>74</td>\n",
       "    </tr>\n",
       "    <tr>\n",
       "      <th>898</th>\n",
       "      <td>1.160021</td>\n",
       "      <td>68</td>\n",
       "    </tr>\n",
       "    <tr>\n",
       "      <th>899</th>\n",
       "      <td>1.250577</td>\n",
       "      <td>54</td>\n",
       "    </tr>\n",
       "  </tbody>\n",
       "</table>\n",
       "<p>900 rows × 2 columns</p>\n",
       "</div>"
      ],
      "text/plain": [
       "     distance  clusterid\n",
       "0    1.225922         48\n",
       "1    1.095258         80\n",
       "2    1.227573         22\n",
       "3    1.000222         37\n",
       "4    1.199311         38\n",
       "..        ...        ...\n",
       "895  1.153000         67\n",
       "896  1.088352         82\n",
       "897  1.027572         74\n",
       "898  1.160021         68\n",
       "899  1.250577         54\n",
       "\n",
       "[900 rows x 2 columns]"
      ]
     },
     "metadata": {},
     "execution_count": 13
    }
   ],
   "metadata": {}
  },
  {
   "cell_type": "markdown",
   "source": [
    "| -------------------------------------------------------------------- | -------------------------------------------------------------------- |"
   ],
   "metadata": {}
  },
  {
   "cell_type": "markdown",
   "source": [
    "# ``` Predicting new image's cluster id ```"
   ],
   "metadata": {}
  },
  {
   "cell_type": "code",
   "execution_count": 14,
   "source": [
    "# root = tk.Tk() \r\n",
    "# root.withdraw() \r\n",
    "# file_path = filedialog.askopenfilename() \r\n",
    "# new_image = Image.open(file_path)\r\n",
    "# # plt.imshow(img)\r\n",
    "# plt.imshow(new_image)"
   ],
   "outputs": [],
   "metadata": {}
  },
  {
   "cell_type": "markdown",
   "source": [
    ">## Distance of new image from reference image"
   ],
   "metadata": {}
  },
  {
   "cell_type": "code",
   "execution_count": 17,
   "source": [
    "threshold = 50\r\n",
    "# from VideoCapture import Device\r\n",
    "# cam = Device(devnum = 0,showVideoWindow=0)\r\n",
    "orb = cv2.ORB_create()"
   ],
   "outputs": [],
   "metadata": {}
  },
  {
   "cell_type": "code",
   "execution_count": 21,
   "source": [
    "cap = cv2.VideoCapture(0)\r\n",
    "while True:\r\n",
    "    ret,frame = cap.read()\r\n",
    "    cv2.imshow(\"WebCam\",frame)\r\n",
    "    kp_frame,des_frame = orb.detectAndCompute(frame,None)\r\n",
    "    frame = cv2.cvtColor(frame,cv2.COLOR_BGR2RGB)\r\n",
    "    frame = Image.fromarray(frame)\r\n",
    "    frame_fe = fe.extract(frame)\r\n",
    "    \r\n",
    "    a = [frame_fe]\r\n",
    "    frame_distance = np.linalg.norm(a-refer_fe, axis=1)\r\n",
    "    x.xs(0)[\"distance\"] = float(frame_distance[0])\r\n",
    "    a = clusters.predict(x)\r\n",
    "    y_new = y[y['clusterid']==a[0]]\r\n",
    "    breakloop = False\r\n",
    "    for i in y_new.index.values:\r\n",
    "        img = (images[i]['image_data'])\r\n",
    "        img = np.array(img)\r\n",
    "        img = img[:,:,::-1].copy()\r\n",
    "       \r\n",
    "        kp,des = orb.detectAndCompute(img,None)\r\n",
    "        \r\n",
    "        flann_params= dict(algorithm = 6,\r\n",
    "                               table_number = 6, \r\n",
    "                               key_size = 12,     \r\n",
    "                               multi_probe_level = 2) \r\n",
    "        matcher = cv2.FlannBasedMatcher(flann_params, {})\r\n",
    "        good= []\r\n",
    "        matches = matcher.knnMatch(des, des_frame, k=2)\r\n",
    "        for m,n in matches:\r\n",
    "            if m.distance < 0.75 * n.distance:\r\n",
    "                good.append(m)\r\n",
    "        if(len(good)>threshold):\r\n",
    "            breakloop = True\r\n",
    "            temp = i\r\n",
    "            break;\r\n",
    "    if(breakloop):\r\n",
    "        plt.imshow(images[temp]['image_data'])\r\n",
    "        cap.release()\r\n",
    "        cv2.destroyAllWindows()\r\n",
    "        break;\r\n",
    "    \r\n",
    "    if cv2.waitKey(1) & 0xFF == ord('q'):\r\n",
    "        break\r\n",
    "    # temp=y_new\r\n",
    "    # temp['d']=abs(temp['distance']-frame_distance[0])\r\n",
    "    # index_found = temp.index[temp['d']==temp['d'].min()][0]\r\n",
    "    # plt.imshow(images[index_found]['image_data'])\r\n",
    "    # img = images[y_new.index.values]['image_data']\r\n",
    "    # cv2.imshow(\"WebCam\",frame)\r\n",
    "    # if cv2.waitKey(1) & 0xFF == ord('q'):\r\n",
    "    #     break\r\n",
    "cap.release()\r\n",
    "cv2.destroyAllWindows()"
   ],
   "outputs": [
    {
     "output_type": "error",
     "ename": "ValueError",
     "evalue": "too many values to unpack (expected 2)",
     "traceback": [
      "\u001b[1;31m---------------------------------------------------------------------------\u001b[0m",
      "\u001b[1;31mValueError\u001b[0m                                Traceback (most recent call last)",
      "\u001b[1;32m~\\AppData\\Local\\Temp/ipykernel_32192/184090136.py\u001b[0m in \u001b[0;36m<module>\u001b[1;34m\u001b[0m\n\u001b[0;32m     28\u001b[0m         \u001b[0mgood\u001b[0m\u001b[1;33m=\u001b[0m \u001b[1;33m[\u001b[0m\u001b[1;33m]\u001b[0m\u001b[1;33m\u001b[0m\u001b[1;33m\u001b[0m\u001b[0m\n\u001b[0;32m     29\u001b[0m         \u001b[0mmatches\u001b[0m \u001b[1;33m=\u001b[0m \u001b[0mmatcher\u001b[0m\u001b[1;33m.\u001b[0m\u001b[0mknnMatch\u001b[0m\u001b[1;33m(\u001b[0m\u001b[0mdes\u001b[0m\u001b[1;33m,\u001b[0m \u001b[0mdes_frame\u001b[0m\u001b[1;33m,\u001b[0m \u001b[0mk\u001b[0m\u001b[1;33m=\u001b[0m\u001b[1;36m3\u001b[0m\u001b[1;33m)\u001b[0m\u001b[1;33m\u001b[0m\u001b[1;33m\u001b[0m\u001b[0m\n\u001b[1;32m---> 30\u001b[1;33m         \u001b[1;32mfor\u001b[0m \u001b[0mm\u001b[0m\u001b[1;33m,\u001b[0m\u001b[0mn\u001b[0m \u001b[1;32min\u001b[0m \u001b[0mmatches\u001b[0m\u001b[1;33m:\u001b[0m\u001b[1;33m\u001b[0m\u001b[1;33m\u001b[0m\u001b[0m\n\u001b[0m\u001b[0;32m     31\u001b[0m             \u001b[1;32mif\u001b[0m \u001b[0mm\u001b[0m\u001b[1;33m.\u001b[0m\u001b[0mdistance\u001b[0m \u001b[1;33m<\u001b[0m \u001b[1;36m0.75\u001b[0m \u001b[1;33m*\u001b[0m \u001b[0mn\u001b[0m\u001b[1;33m.\u001b[0m\u001b[0mdistance\u001b[0m\u001b[1;33m:\u001b[0m\u001b[1;33m\u001b[0m\u001b[1;33m\u001b[0m\u001b[0m\n\u001b[0;32m     32\u001b[0m                 \u001b[0mgood\u001b[0m\u001b[1;33m.\u001b[0m\u001b[0mappend\u001b[0m\u001b[1;33m(\u001b[0m\u001b[0mm\u001b[0m\u001b[1;33m)\u001b[0m\u001b[1;33m\u001b[0m\u001b[1;33m\u001b[0m\u001b[0m\n",
      "\u001b[1;31mValueError\u001b[0m: too many values to unpack (expected 2)"
     ]
    }
   ],
   "metadata": {}
  },
  {
   "cell_type": "code",
   "execution_count": 193,
   "source": [
    "print(y_new.index.values)"
   ],
   "outputs": [
    {
     "output_type": "stream",
     "name": "stdout",
     "text": [
      "100\n"
     ]
    }
   ],
   "metadata": {}
  },
  {
   "cell_type": "code",
   "execution_count": 172,
   "source": [
    "new_fe = fe.extract(new_image)\r\n",
    "a = [new_fe]\r\n",
    "dists_new = np.linalg.norm(a-refer_fe, axis=1) \r\n",
    "print(dists_new[0])\r\n",
    "x.xs(0)[\"distance\"] = float(dists_new[0])\r\n",
    "# x.head(1)\r\n",
    "a = clusters.predict(x)\r\n",
    "print(a[0])"
   ],
   "outputs": [
    {
     "output_type": "stream",
     "name": "stdout",
     "text": [
      "1.1073898\n"
     ]
    }
   ],
   "metadata": {}
  },
  {
   "cell_type": "markdown",
   "source": [
    "## Predicting model based on new image's distance from refrence image"
   ],
   "metadata": {}
  },
  {
   "cell_type": "code",
   "execution_count": 174,
   "source": [
    "y_new = y[y['clusterid']==a[0]]\r\n",
    "y_new"
   ],
   "outputs": [
    {
     "output_type": "execute_result",
     "data": {
      "text/html": [
       "<div>\n",
       "<style scoped>\n",
       "    .dataframe tbody tr th:only-of-type {\n",
       "        vertical-align: middle;\n",
       "    }\n",
       "\n",
       "    .dataframe tbody tr th {\n",
       "        vertical-align: top;\n",
       "    }\n",
       "\n",
       "    .dataframe thead th {\n",
       "        text-align: right;\n",
       "    }\n",
       "</style>\n",
       "<table border=\"1\" class=\"dataframe\">\n",
       "  <thead>\n",
       "    <tr style=\"text-align: right;\">\n",
       "      <th></th>\n",
       "      <th>distance</th>\n",
       "      <th>clusterid</th>\n",
       "    </tr>\n",
       "  </thead>\n",
       "  <tbody>\n",
       "    <tr>\n",
       "      <th>100</th>\n",
       "      <td>1.106268</td>\n",
       "      <td>66</td>\n",
       "    </tr>\n",
       "    <tr>\n",
       "      <th>126</th>\n",
       "      <td>1.105518</td>\n",
       "      <td>66</td>\n",
       "    </tr>\n",
       "    <tr>\n",
       "      <th>176</th>\n",
       "      <td>1.107232</td>\n",
       "      <td>66</td>\n",
       "    </tr>\n",
       "    <tr>\n",
       "      <th>182</th>\n",
       "      <td>1.108447</td>\n",
       "      <td>66</td>\n",
       "    </tr>\n",
       "    <tr>\n",
       "      <th>265</th>\n",
       "      <td>1.108124</td>\n",
       "      <td>66</td>\n",
       "    </tr>\n",
       "    <tr>\n",
       "      <th>443</th>\n",
       "      <td>1.107390</td>\n",
       "      <td>66</td>\n",
       "    </tr>\n",
       "    <tr>\n",
       "      <th>474</th>\n",
       "      <td>1.106961</td>\n",
       "      <td>66</td>\n",
       "    </tr>\n",
       "    <tr>\n",
       "      <th>495</th>\n",
       "      <td>1.106840</td>\n",
       "      <td>66</td>\n",
       "    </tr>\n",
       "    <tr>\n",
       "      <th>596</th>\n",
       "      <td>1.107435</td>\n",
       "      <td>66</td>\n",
       "    </tr>\n",
       "    <tr>\n",
       "      <th>632</th>\n",
       "      <td>1.107926</td>\n",
       "      <td>66</td>\n",
       "    </tr>\n",
       "    <tr>\n",
       "      <th>883</th>\n",
       "      <td>1.106268</td>\n",
       "      <td>66</td>\n",
       "    </tr>\n",
       "  </tbody>\n",
       "</table>\n",
       "</div>"
      ],
      "text/plain": [
       "     distance  clusterid\n",
       "100  1.106268         66\n",
       "126  1.105518         66\n",
       "176  1.107232         66\n",
       "182  1.108447         66\n",
       "265  1.108124         66\n",
       "443  1.107390         66\n",
       "474  1.106961         66\n",
       "495  1.106840         66\n",
       "596  1.107435         66\n",
       "632  1.107926         66\n",
       "883  1.106268         66"
      ]
     },
     "metadata": {},
     "execution_count": 174
    }
   ],
   "metadata": {}
  },
  {
   "cell_type": "markdown",
   "source": [
    ">## Computing Distance of new image from other images in its cluster"
   ],
   "metadata": {}
  },
  {
   "cell_type": "code",
   "execution_count": 182,
   "source": [
    "temp=y_new\r\n",
    "temp['d']=abs(temp['distance']-dists_new[0])\r\n",
    "temp.index[temp['d']==temp['d'].min()][0]\r\n",
    "\r\n",
    "\r\n",
    "    "
   ],
   "outputs": [
    {
     "output_type": "stream",
     "name": "stderr",
     "text": [
      "C:\\Users\\piyus\\AppData\\Local\\Temp/ipykernel_10896/3005077723.py:2: SettingWithCopyWarning: \n",
      "A value is trying to be set on a copy of a slice from a DataFrame.\n",
      "Try using .loc[row_indexer,col_indexer] = value instead\n",
      "\n",
      "See the caveats in the documentation: https://pandas.pydata.org/pandas-docs/stable/user_guide/indexing.html#returning-a-view-versus-a-copy\n",
      "  temp['d']=abs(temp['distance']-dists_new[0])\n"
     ]
    },
    {
     "output_type": "execute_result",
     "data": {
      "text/html": [
       "<div>\n",
       "<style scoped>\n",
       "    .dataframe tbody tr th:only-of-type {\n",
       "        vertical-align: middle;\n",
       "    }\n",
       "\n",
       "    .dataframe tbody tr th {\n",
       "        vertical-align: top;\n",
       "    }\n",
       "\n",
       "    .dataframe thead th {\n",
       "        text-align: right;\n",
       "    }\n",
       "</style>\n",
       "<table border=\"1\" class=\"dataframe\">\n",
       "  <thead>\n",
       "    <tr style=\"text-align: right;\">\n",
       "      <th></th>\n",
       "      <th>distance</th>\n",
       "      <th>clusterid</th>\n",
       "      <th>d</th>\n",
       "    </tr>\n",
       "  </thead>\n",
       "  <tbody>\n",
       "    <tr>\n",
       "      <th>100</th>\n",
       "      <td>1.106268</td>\n",
       "      <td>66</td>\n",
       "      <td>0.001122</td>\n",
       "    </tr>\n",
       "    <tr>\n",
       "      <th>126</th>\n",
       "      <td>1.105518</td>\n",
       "      <td>66</td>\n",
       "      <td>0.001872</td>\n",
       "    </tr>\n",
       "    <tr>\n",
       "      <th>176</th>\n",
       "      <td>1.107232</td>\n",
       "      <td>66</td>\n",
       "      <td>0.000158</td>\n",
       "    </tr>\n",
       "    <tr>\n",
       "      <th>182</th>\n",
       "      <td>1.108447</td>\n",
       "      <td>66</td>\n",
       "      <td>0.001058</td>\n",
       "    </tr>\n",
       "    <tr>\n",
       "      <th>265</th>\n",
       "      <td>1.108124</td>\n",
       "      <td>66</td>\n",
       "      <td>0.000734</td>\n",
       "    </tr>\n",
       "    <tr>\n",
       "      <th>443</th>\n",
       "      <td>1.107390</td>\n",
       "      <td>66</td>\n",
       "      <td>0.000000</td>\n",
       "    </tr>\n",
       "    <tr>\n",
       "      <th>474</th>\n",
       "      <td>1.106961</td>\n",
       "      <td>66</td>\n",
       "      <td>0.000429</td>\n",
       "    </tr>\n",
       "    <tr>\n",
       "      <th>495</th>\n",
       "      <td>1.106840</td>\n",
       "      <td>66</td>\n",
       "      <td>0.000549</td>\n",
       "    </tr>\n",
       "    <tr>\n",
       "      <th>596</th>\n",
       "      <td>1.107435</td>\n",
       "      <td>66</td>\n",
       "      <td>0.000045</td>\n",
       "    </tr>\n",
       "    <tr>\n",
       "      <th>632</th>\n",
       "      <td>1.107926</td>\n",
       "      <td>66</td>\n",
       "      <td>0.000536</td>\n",
       "    </tr>\n",
       "    <tr>\n",
       "      <th>883</th>\n",
       "      <td>1.106268</td>\n",
       "      <td>66</td>\n",
       "      <td>0.001122</td>\n",
       "    </tr>\n",
       "  </tbody>\n",
       "</table>\n",
       "</div>"
      ],
      "text/plain": [
       "     distance  clusterid         d\n",
       "100  1.106268         66  0.001122\n",
       "126  1.105518         66  0.001872\n",
       "176  1.107232         66  0.000158\n",
       "182  1.108447         66  0.001058\n",
       "265  1.108124         66  0.000734\n",
       "443  1.107390         66  0.000000\n",
       "474  1.106961         66  0.000429\n",
       "495  1.106840         66  0.000549\n",
       "596  1.107435         66  0.000045\n",
       "632  1.107926         66  0.000536\n",
       "883  1.106268         66  0.001122"
      ]
     },
     "metadata": {},
     "execution_count": 182
    }
   ],
   "metadata": {}
  },
  {
   "cell_type": "code",
   "execution_count": 181,
   "source": [
    "plt.imshow(images[index_found]['image_data'])"
   ],
   "outputs": [
    {
     "output_type": "execute_result",
     "data": {
      "text/plain": [
       "<matplotlib.image.AxesImage at 0x27c1d2706a0>"
      ]
     },
     "metadata": {},
     "execution_count": 181
    },
    {
     "output_type": "display_data",
     "data": {
      "image/png": "[encoded data removed]",
      "text/plain": [
       "<Figure size 432x288 with 1 Axes>"
      ]
     },
     "metadata": {}
    }
   ],
   "metadata": {}
  },
  {
   "cell_type": "markdown",
   "source": [
    "> End of file"
   ],
   "metadata": {}
  }
 ],
 "metadata": {
  "orig_nbformat": 4,
  "language_info": {
   "name": "python",
   "version": "3.9.7",
   "mimetype": "text/x-python",
   "codemirror_mode": {
    "name": "ipython",
    "version": 3
   },
   "pygments_lexer": "ipython3",
   "nbconvert_exporter": "python",
   "file_extension": ".py"
  },
  "kernelspec": {
   "name": "python3",
   "display_name": "Python 3.9.7 64-bit ('cbir': conda)"
  },
  "interpreter": {
   "hash": "e793a7d7b892b7f9b399d1144dda67d15111a4718fdb44d06ba629bf8b690210"
  }
 },
 "nbformat": 4,
 "nbformat_minor": 2
}